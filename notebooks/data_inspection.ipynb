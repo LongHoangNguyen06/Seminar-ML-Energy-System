{
 "cells": [
  {
   "cell_type": "code",
   "execution_count": null,
   "metadata": {},
   "outputs": [],
   "source": [
    "%load_ext autoreload\n",
    "%autoreload 2\n",
    "\n",
    "import numpy as np\n",
    "import pandas as pd\n",
    "import matplotlib.pyplot as plt\n",
    "from __future__ import annotations  # for Python 3.8 and below\n",
    "from ydata_profiling import ProfileReport\n",
    "import os\n",
    "import warnings\n",
    "from IPython.display import display\n",
    "import seaborn as sns\n",
    "import sys\n",
    "\n",
    "sys.path.append(\"../\")\n",
    "from pipeline import io\n",
    "from config import CONF\n",
    "\n",
    "# To suppress all warnings\n",
    "warnings.filterwarnings(\"ignore\")\n",
    "\n",
    "# black is a code formatter (see https://github.com/psf/black).\n",
    "# It will automatically format the code you write in the cells imposing consistent Python style.\n",
    "%load_ext jupyter_black\n",
    "# matplotlib style file\n",
    "# Template for style file: https://matplotlib.org/stable/tutorials/introductory/customizing.html#customizing-with-style-sheets\n",
    "plt.style.use(\"../matplotlib_style.txt\")"
   ]
  },
  {
   "cell_type": "code",
   "execution_count": null,
   "metadata": {},
   "outputs": [],
   "source": [
    "installed_capacity, prices, realised_supply, realised_demand, weather_data = (\n",
    "    io.load_raw_data(CONF)\n",
    ")"
   ]
  },
  {
   "cell_type": "code",
   "execution_count": null,
   "metadata": {},
   "outputs": [],
   "source": [
    "# Generate profile reports and display them in the notebook\n",
    "installed_capacity_profile = ProfileReport(\n",
    "    installed_capacity, title=\"Installed Capacity\"\n",
    ")\n",
    "display(installed_capacity_profile)\n",
    "installed_capacity_profile.to_file(\n",
    "    os.path.join(CONF.data_processing.inspection_dir, \"installed_capacity.html\")\n",
    ")"
   ]
  },
  {
   "cell_type": "code",
   "execution_count": null,
   "metadata": {},
   "outputs": [],
   "source": [
    "prices_profile = ProfileReport(prices, title=\"Prices Europe\")\n",
    "display(prices_profile)\n",
    "prices_profile.to_file(os.path.join(CONF.data_processing.inspection_dir, \"prices.html\"))"
   ]
  },
  {
   "cell_type": "code",
   "execution_count": null,
   "metadata": {},
   "outputs": [],
   "source": [
    "realised_supply_profile = ProfileReport(realised_supply, title=\"Realised Supply\")\n",
    "display(realised_supply_profile)\n",
    "realised_supply_profile.to_file(os.path.join(CONF.data_processing.inspection_dir, \"realised_supply.html\"))"
   ]
  },
  {
   "cell_type": "code",
   "execution_count": null,
   "metadata": {},
   "outputs": [],
   "source": [
    "realised_demand_profile = ProfileReport(realised_demand, title=\"Realised Demand\")\n",
    "display(realised_demand_profile)\n",
    "realised_demand_profile.to_file(os.path.join(CONF.data_processing.inspection_dir, \"realised_demand.html\"))"
   ]
  },
  {
   "cell_type": "code",
   "execution_count": null,
   "metadata": {},
   "outputs": [],
   "source": [
    "weather_data_profile = ProfileReport(weather_data, title=\"Weather Data\")\n",
    "display(weather_data_profile)\n",
    "weather_data_profile.to_file(os.path.join(CONF.data_processing.inspection_dir, \"weather_data.html\"))"
   ]
  }
 ],
 "metadata": {
  "kernelspec": {
   "display_name": "ml-energy-system",
   "language": "python",
   "name": "python3"
  },
  "language_info": {
   "codemirror_mode": {
    "name": "ipython",
    "version": 3
   },
   "file_extension": ".py",
   "mimetype": "text/x-python",
   "name": "python",
   "nbconvert_exporter": "python",
   "pygments_lexer": "ipython3",
   "version": "3.12.3"
  }
 },
 "nbformat": 4,
 "nbformat_minor": 2
}
