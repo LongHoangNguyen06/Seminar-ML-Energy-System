{
 "cells": [
  {
   "cell_type": "code",
   "execution_count": null,
   "metadata": {},
   "outputs": [],
   "source": [
    "import numpy as np\n",
    "import pandas as pd\n",
    "import matplotlib.pyplot as plt\n",
    "from __future__ import annotations  # for Python 3.8 and below\n",
    "from ydata_profiling import ProfileReport\n",
    "import os\n",
    "import warnings\n",
    "from IPython.display import display\n",
    "import seaborn as sns\n",
    "\n",
    "\n",
    "# To suppress all warnings\n",
    "warnings.filterwarnings(\"ignore\")\n",
    "\n",
    "# black is a code formatter (see https://github.com/psf/black).\n",
    "# It will automatically format the code you write in the cells imposing consistent Python style.\n",
    "%load_ext jupyter_black\n",
    "# matplotlib style file\n",
    "# Template for style file: https://matplotlib.org/stable/tutorials/introductory/customizing.html#customizing-with-style-sheets\n",
    "plt.style.use(\"../matplotlib_style.txt\")\n",
    "os.makedirs(\"../outputs\", exist_ok=True)\n",
    "os.makedirs(\"../outputs/data_inspection\", exist_ok=True)"
   ]
  },
  {
   "cell_type": "code",
   "execution_count": null,
   "metadata": {},
   "outputs": [],
   "source": [
    "installed_capacity = pd.read_csv(\n",
    "    \"../data/Installed_Capacity_Germany.csv\",\n",
    "    sep=\";\",\n",
    "    thousands=\".\",\n",
    "    decimal=\",\",\n",
    "    parse_dates=[\"Date from\", \"Date to\"],\n",
    ")\n",
    "prices = pd.read_csv(\n",
    "    \"../data/Prices_Europe.csv\",\n",
    "    sep=\";\",\n",
    "    decimal=\",\",\n",
    "    parse_dates=[\"Date from\", \"Date to\"],\n",
    ")\n",
    "realised_supply = pd.read_csv(\n",
    "    \"../data/Realised_Supply_Germany.csv\",\n",
    "    sep=\";\",\n",
    "    thousands=\".\",\n",
    "    decimal=\",\",\n",
    "    parse_dates=[\"Date from\", \"Date to\"],\n",
    ")\n",
    "realised_demand = pd.read_csv(\n",
    "    \"../data/Realised_Demand_Germany.csv\",\n",
    "    sep=\";\",\n",
    "    thousands=\".\",\n",
    "    decimal=\",\",\n",
    "    parse_dates=[\"Date from\", \"Date to\"],\n",
    ")\n",
    "weather_data = pd.read_csv(\n",
    "    \"../data/Weather_Data_Germany.csv\",\n",
    "    sep=\",\",\n",
    "    decimal=\",\",\n",
    "    parse_dates=[\"forecast_origin\", \"time\"],\n",
    ")"
   ]
  },
  {
   "cell_type": "code",
   "execution_count": null,
   "metadata": {},
   "outputs": [],
   "source": [
    "# Generate profile reports and display them in the notebook\n",
    "installed_capacity_profile = ProfileReport(\n",
    "    installed_capacity, title=\"Installed Capacity\"\n",
    ")\n",
    "display(installed_capacity_profile)\n",
    "installed_capacity_profile.to_file(\"../outputs/data_inspection/installed_capacity.html\")"
   ]
  },
  {
   "cell_type": "code",
   "execution_count": null,
   "metadata": {},
   "outputs": [],
   "source": [
    "prices_profile = ProfileReport(prices)\n",
    "display(prices_profile)\n",
    "prices_profile.to_file(\"../outputs/data_inspection/prices_profile.html\")"
   ]
  },
  {
   "cell_type": "code",
   "execution_count": null,
   "metadata": {},
   "outputs": [],
   "source": [
    "realised_supply_profile = ProfileReport(realised_supply, title=\"Realised Supply\")\n",
    "display(realised_supply_profile)\n",
    "realised_supply_profile.to_file(\"../outputs/data_inspection/realised_supply.html\")"
   ]
  },
  {
   "cell_type": "code",
   "execution_count": null,
   "metadata": {},
   "outputs": [],
   "source": [
    "realised_demand_profile = ProfileReport(realised_demand, title=\"Realised Demand\")\n",
    "display(realised_demand_profile)\n",
    "realised_demand_profile.to_file(\"../outputs/data_inspection/realised_demand.html\")"
   ]
  },
  {
   "cell_type": "code",
   "execution_count": null,
   "metadata": {},
   "outputs": [],
   "source": [
    "weather_data_profile = ProfileReport(weather_data, title=\"Weather Data\")\n",
    "display(weather_data_profile)\n",
    "\n",
    "weather_data_profile.to_file(\"../outputs/data_inspection/weather_data.html\")"
   ]
  }
 ],
 "metadata": {
  "kernelspec": {
   "display_name": "ml-energy-system",
   "language": "python",
   "name": "python3"
  },
  "language_info": {
   "codemirror_mode": {
    "name": "ipython",
    "version": 3
   },
   "file_extension": ".py",
   "mimetype": "text/x-python",
   "name": "python",
   "nbconvert_exporter": "python",
   "pygments_lexer": "ipython3",
   "version": "3.12.3"
  }
 },
 "nbformat": 4,
 "nbformat_minor": 2
}
