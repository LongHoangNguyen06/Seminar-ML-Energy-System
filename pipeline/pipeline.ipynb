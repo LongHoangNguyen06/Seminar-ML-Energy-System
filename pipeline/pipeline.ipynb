{
 "cells": [
  {
   "cell_type": "markdown",
   "metadata": {},
   "source": [
    "#### Import libraries"
   ]
  },
  {
   "cell_type": "code",
   "execution_count": 1,
   "metadata": {},
   "outputs": [
    {
     "data": {
      "text/html": [
       "\n",
       "                <script type=\"application/javascript\" id=\"jupyter_black\">\n",
       "                (function() {\n",
       "                    if (window.IPython === undefined) {\n",
       "                        return\n",
       "                    }\n",
       "                    var msg = \"WARNING: it looks like you might have loaded \" +\n",
       "                        \"jupyter_black in a non-lab notebook with \" +\n",
       "                        \"`is_lab=True`. Please double check, and if \" +\n",
       "                        \"loading with `%load_ext` please review the README!\"\n",
       "                    console.log(msg)\n",
       "                    alert(msg)\n",
       "                })()\n",
       "                </script>\n",
       "                "
      ],
      "text/plain": [
       "<IPython.core.display.HTML object>"
      ]
     },
     "metadata": {},
     "output_type": "display_data"
    }
   ],
   "source": [
    "%load_ext autoreload\n",
    "%autoreload 2\n",
    "\n",
    "import matplotlib.pyplot as plt\n",
    "import warnings\n",
    "import sys\n",
    "import pandas as pd\n",
    "\n",
    "sys.path.append(\"../\")\n",
    "from pipeline import data\n",
    "from pipeline.config import CONF\n",
    "from pipeline.data import plots\n",
    "from pipeline.data import io\n",
    "from pipeline.data import inspection\n",
    "from pipeline.data import preprocess\n",
    "\n",
    "# To suppress all warnings\n",
    "warnings.filterwarnings(\"ignore\")\n",
    "\n",
    "# black is a code formatter (see https://github.com/psf/black).\n",
    "# It will automatically format the code you write in the cells imposing consistent Python style.\n",
    "%load_ext jupyter_black\n",
    "# matplotlib style file\n",
    "# Template for style file: https://matplotlib.org/stable/tutorials/introductory/customizing.html#customizing-with-style-sheets\n",
    "plt.style.use(\"../matplotlib_style.txt\")\n",
    "pd.set_option(\"display.max_columns\", None)  # Show all columns\n",
    "pd.set_option(\"display.expand_frame_repr\", False)  # Prevent wrapping"
   ]
  },
  {
   "cell_type": "markdown",
   "metadata": {},
   "source": [
    "### Load raw data"
   ]
  },
  {
   "cell_type": "code",
   "execution_count": 2,
   "metadata": {},
   "outputs": [
    {
     "name": "stdout",
     "output_type": "stream",
     "text": [
      "Loaded Installed_Capacity_Germany from '/graphics/scratch2/students/nguyenlo/seminar-ml/raw_data/Installed_Capacity_Germany.csv' successfully.\n",
      "Loaded Prices_Europe from '/graphics/scratch2/students/nguyenlo/seminar-ml/raw_data/Prices_Europe.csv' successfully.\n",
      "Loaded Realised_Supply_Germany from '/graphics/scratch2/students/nguyenlo/seminar-ml/raw_data/Realised_Supply_Germany.csv' successfully.\n",
      "Loaded Realised_Demand_Germany from '/graphics/scratch2/students/nguyenlo/seminar-ml/raw_data/Reaslised_Demand_Germany.csv' successfully.\n",
      "Loaded Weather_Data_Germany from '/graphics/scratch2/students/nguyenlo/seminar-ml/raw_data/Weather_Data_Germany.csv' successfully.\n",
      "Loaded Weather_Data_Germany_2022 from '/graphics/scratch2/students/nguyenlo/seminar-ml/raw_data/Weather_Data_Germany_2022.csv' successfully.\n"
     ]
    }
   ],
   "source": [
    "# Load raw data\n",
    "(\n",
    "    Installed_Capacity_Germany,\n",
    "    Prices_Europe,\n",
    "    Realised_Supply_Germany,\n",
    "    Realised_Demand_Germany,\n",
    "    Weather_Data_Germany,\n",
    "    Weather_Data_Germany_2022,\n",
    ") = data.load_data(CONF=CONF, data_type=\"raw\")"
   ]
  },
  {
   "cell_type": "markdown",
   "metadata": {},
   "source": [
    "### Inspect raw data"
   ]
  },
  {
   "cell_type": "code",
   "execution_count": null,
   "metadata": {},
   "outputs": [],
   "source": [
    "# Generate profile reports\n",
    "if CONF.data.inspect:\n",
    "    data.save_data_inspection(\n",
    "        Installed_Capacity_Germany=Installed_Capacity_Germany,\n",
    "        Prices_Europe=Prices_Europe,\n",
    "        Realised_Supply_Germany=Realised_Supply_Germany,\n",
    "        Realised_Demand_Germany=Realised_Demand_Germany,\n",
    "        Weather_Data_Germany=Weather_Data_Germany,\n",
    "        Weather_Data_Germany_2022=Weather_Data_Germany_2022,\n",
    "        CONF=CONF,\n",
    "        data_type=\"raw\",\n",
    "    )"
   ]
  },
  {
   "cell_type": "markdown",
   "metadata": {},
   "source": [
    "### Raw data processing"
   ]
  },
  {
   "cell_type": "markdown",
   "metadata": {},
   "source": [
    "##### Merging data together"
   ]
  },
  {
   "cell_type": "code",
   "execution_count": 3,
   "metadata": {},
   "outputs": [],
   "source": [
    "# Merging Weather_Data_Germany and Weather_Data_Germany_2022\n",
    "# Replace Weather_Data_Germany with Weather_Data_Germany_2022 for 2022 data\n",
    "\n",
    "# Remove the data for 2022 from the original dataframe\n",
    "Weather_Data_Germany = Weather_Data_Germany[\n",
    "    Weather_Data_Germany[\"time\"].dt.year != 2022\n",
    "]\n",
    "\n",
    "# Concatenate the filtered original dataframe with the 2022 data\n",
    "Weather_Data_Germany = pd.concat(\n",
    "    [Weather_Data_Germany, Weather_Data_Germany_2022], ignore_index=True\n",
    ")"
   ]
  },
  {
   "cell_type": "markdown",
   "metadata": {},
   "source": [
    "##### Fill NaN"
   ]
  },
  {
   "cell_type": "code",
   "execution_count": 4,
   "metadata": {},
   "outputs": [],
   "source": [
    "Installed_Capacity_Germany = data.process_na_values(Installed_Capacity_Germany, CONF)\n",
    "Prices_Europe = data.process_na_values(Prices_Europe, CONF)\n",
    "Realised_Supply_Germany = data.process_na_values(Realised_Supply_Germany, CONF)\n",
    "Realised_Demand_Germany = data.process_na_values(Realised_Demand_Germany, CONF)\n",
    "Weather_Data_Germany = data.process_na_values(Weather_Data_Germany, CONF)"
   ]
  },
  {
   "cell_type": "markdown",
   "metadata": {},
   "source": [
    "#### Split train, val, test"
   ]
  },
  {
   "cell_type": "code",
   "execution_count": 5,
   "metadata": {},
   "outputs": [],
   "source": [
    "Installed_Capacity_Germany = preprocess.split_data(\n",
    "    df=Installed_Capacity_Germany, column_name=io.DATE_COLUMNS[-1]\n",
    ")\n",
    "Prices_Europe = preprocess.split_data(df=Prices_Europe, column_name=io.DATE_COLUMNS[-1])\n",
    "Realised_Supply_Germany = preprocess.split_data(\n",
    "    df=Realised_Supply_Germany, column_name=io.DATE_COLUMNS[-1]\n",
    ")\n",
    "Realised_Demand_Germany = preprocess.split_data(\n",
    "    df=Realised_Demand_Germany, column_name=io.DATE_COLUMNS[-1]\n",
    ")\n",
    "Weather_Data_Germany = preprocess.split_data(\n",
    "    df=Weather_Data_Germany, column_name=io.DATE_COLUMNS_WEATHER[0]\n",
    ")"
   ]
  },
  {
   "cell_type": "markdown",
   "metadata": {},
   "source": [
    "#### Normalize data"
   ]
  },
  {
   "cell_type": "code",
   "execution_count": 7,
   "metadata": {},
   "outputs": [],
   "source": [
    "Installed_Capacity_Germany = preprocess.normalize_data(\n",
    "    df=Installed_Capacity_Germany, ignore_features=io.DATE_COLUMNS\n",
    ")\n",
    "Prices_Europe = preprocess.normalize_data(\n",
    "    df=Prices_Europe, ignore_features=io.DATE_COLUMNS\n",
    ")\n",
    "Realised_Supply_Germany = preprocess.normalize_data(\n",
    "    df=Realised_Supply_Germany, ignore_features=io.DATE_COLUMNS\n",
    ")\n",
    "Realised_Demand_Germany = preprocess.normalize_data(\n",
    "    df=Realised_Demand_Germany, ignore_features=io.DATE_COLUMNS\n",
    ")\n",
    "Weather_Data_Germany = preprocess.normalize_data(\n",
    "    df=Weather_Data_Germany,\n",
    "    ignore_features=io.DATE_COLUMNS_WEATHER + [\"longitude\", \"latitude\"],\n",
    ")"
   ]
  },
  {
   "cell_type": "markdown",
   "metadata": {},
   "source": [
    "#### Aggregate weather data"
   ]
  },
  {
   "cell_type": "code",
   "execution_count": 8,
   "metadata": {},
   "outputs": [
    {
     "data": {
      "text/html": [
       "<div>\n",
       "<style scoped>\n",
       "    .dataframe tbody tr th:only-of-type {\n",
       "        vertical-align: middle;\n",
       "    }\n",
       "\n",
       "    .dataframe tbody tr th {\n",
       "        vertical-align: top;\n",
       "    }\n",
       "\n",
       "    .dataframe thead th {\n",
       "        text-align: right;\n",
       "    }\n",
       "</style>\n",
       "<table border=\"1\" class=\"dataframe\">\n",
       "  <thead>\n",
       "    <tr style=\"text-align: right;\">\n",
       "      <th></th>\n",
       "      <th>longitude</th>\n",
       "      <th>latitude</th>\n",
       "      <th>forecast_origin</th>\n",
       "      <th>time</th>\n",
       "      <th>cdir</th>\n",
       "      <th>z</th>\n",
       "      <th>msl</th>\n",
       "      <th>blh</th>\n",
       "      <th>tcc</th>\n",
       "      <th>u10</th>\n",
       "      <th>v10</th>\n",
       "      <th>t2m</th>\n",
       "      <th>ssr</th>\n",
       "      <th>tsr</th>\n",
       "      <th>sund</th>\n",
       "      <th>tp</th>\n",
       "      <th>fsr</th>\n",
       "      <th>u100</th>\n",
       "      <th>v100</th>\n",
       "      <th>train</th>\n",
       "      <th>val</th>\n",
       "      <th>test</th>\n",
       "    </tr>\n",
       "  </thead>\n",
       "  <tbody>\n",
       "    <tr>\n",
       "      <th>0</th>\n",
       "      <td>5.8</td>\n",
       "      <td>54.2</td>\n",
       "      <td>2019-01-01</td>\n",
       "      <td>2019-01-01</td>\n",
       "      <td>-0.895983</td>\n",
       "      <td>-0.843734</td>\n",
       "      <td>0.861054</td>\n",
       "      <td>0.376895</td>\n",
       "      <td>-0.856847</td>\n",
       "      <td>3.477066</td>\n",
       "      <td>0.799417</td>\n",
       "      <td>-0.168077</td>\n",
       "      <td>-0.819433</td>\n",
       "      <td>-0.885197</td>\n",
       "      <td>-0.899182</td>\n",
       "      <td>-0.404491</td>\n",
       "      <td>-1.983884</td>\n",
       "      <td>2.845296</td>\n",
       "      <td>0.482135</td>\n",
       "      <td>True</td>\n",
       "      <td>False</td>\n",
       "      <td>False</td>\n",
       "    </tr>\n",
       "    <tr>\n",
       "      <th>1</th>\n",
       "      <td>5.8</td>\n",
       "      <td>53.2</td>\n",
       "      <td>2019-01-01</td>\n",
       "      <td>2019-01-01</td>\n",
       "      <td>-0.895983</td>\n",
       "      <td>-0.844585</td>\n",
       "      <td>1.218951</td>\n",
       "      <td>0.528094</td>\n",
       "      <td>0.821789</td>\n",
       "      <td>1.802705</td>\n",
       "      <td>0.402100</td>\n",
       "      <td>-0.268699</td>\n",
       "      <td>-0.819433</td>\n",
       "      <td>-0.885197</td>\n",
       "      <td>-0.899182</td>\n",
       "      <td>-0.404491</td>\n",
       "      <td>-1.304693</td>\n",
       "      <td>1.852911</td>\n",
       "      <td>0.301878</td>\n",
       "      <td>True</td>\n",
       "      <td>False</td>\n",
       "      <td>False</td>\n",
       "    </tr>\n",
       "    <tr>\n",
       "      <th>2</th>\n",
       "      <td>5.8</td>\n",
       "      <td>52.2</td>\n",
       "      <td>2019-01-01</td>\n",
       "      <td>2019-01-01</td>\n",
       "      <td>-0.895983</td>\n",
       "      <td>-0.723015</td>\n",
       "      <td>1.503220</td>\n",
       "      <td>0.567414</td>\n",
       "      <td>0.962627</td>\n",
       "      <td>1.268606</td>\n",
       "      <td>0.452042</td>\n",
       "      <td>-0.374367</td>\n",
       "      <td>-0.819433</td>\n",
       "      <td>-0.885197</td>\n",
       "      <td>-0.899182</td>\n",
       "      <td>-0.404491</td>\n",
       "      <td>-0.810872</td>\n",
       "      <td>1.366301</td>\n",
       "      <td>0.346229</td>\n",
       "      <td>True</td>\n",
       "      <td>False</td>\n",
       "      <td>False</td>\n",
       "    </tr>\n",
       "    <tr>\n",
       "      <th>3</th>\n",
       "      <td>5.8</td>\n",
       "      <td>51.2</td>\n",
       "      <td>2019-01-01</td>\n",
       "      <td>2019-01-01</td>\n",
       "      <td>-0.895983</td>\n",
       "      <td>-0.783375</td>\n",
       "      <td>1.737973</td>\n",
       "      <td>0.088918</td>\n",
       "      <td>0.963905</td>\n",
       "      <td>0.891587</td>\n",
       "      <td>0.189490</td>\n",
       "      <td>-0.403454</td>\n",
       "      <td>-0.819433</td>\n",
       "      <td>-0.885197</td>\n",
       "      <td>-0.899182</td>\n",
       "      <td>-0.404491</td>\n",
       "      <td>-0.260718</td>\n",
       "      <td>1.038873</td>\n",
       "      <td>0.113191</td>\n",
       "      <td>True</td>\n",
       "      <td>False</td>\n",
       "      <td>False</td>\n",
       "    </tr>\n",
       "    <tr>\n",
       "      <th>4</th>\n",
       "      <td>5.8</td>\n",
       "      <td>50.2</td>\n",
       "      <td>2019-01-01</td>\n",
       "      <td>2019-01-01</td>\n",
       "      <td>-0.895983</td>\n",
       "      <td>0.331537</td>\n",
       "      <td>1.885205</td>\n",
       "      <td>-0.371341</td>\n",
       "      <td>0.963905</td>\n",
       "      <td>0.852461</td>\n",
       "      <td>-0.421706</td>\n",
       "      <td>-0.711545</td>\n",
       "      <td>-0.819433</td>\n",
       "      <td>-0.885197</td>\n",
       "      <td>-0.899182</td>\n",
       "      <td>-0.404491</td>\n",
       "      <td>-1.021021</td>\n",
       "      <td>0.875331</td>\n",
       "      <td>-0.488663</td>\n",
       "      <td>True</td>\n",
       "      <td>False</td>\n",
       "      <td>False</td>\n",
       "    </tr>\n",
       "  </tbody>\n",
       "</table>\n",
       "</div>"
      ],
      "text/plain": [
       "   longitude  latitude forecast_origin       time      cdir         z       msl       blh       tcc       u10       v10       t2m       ssr       tsr      sund        tp       fsr      u100      v100  train    val   test\n",
       "0        5.8      54.2      2019-01-01 2019-01-01 -0.895983 -0.843734  0.861054  0.376895 -0.856847  3.477066  0.799417 -0.168077 -0.819433 -0.885197 -0.899182 -0.404491 -1.983884  2.845296  0.482135   True  False  False\n",
       "1        5.8      53.2      2019-01-01 2019-01-01 -0.895983 -0.844585  1.218951  0.528094  0.821789  1.802705  0.402100 -0.268699 -0.819433 -0.885197 -0.899182 -0.404491 -1.304693  1.852911  0.301878   True  False  False\n",
       "2        5.8      52.2      2019-01-01 2019-01-01 -0.895983 -0.723015  1.503220  0.567414  0.962627  1.268606  0.452042 -0.374367 -0.819433 -0.885197 -0.899182 -0.404491 -0.810872  1.366301  0.346229   True  False  False\n",
       "3        5.8      51.2      2019-01-01 2019-01-01 -0.895983 -0.783375  1.737973  0.088918  0.963905  0.891587  0.189490 -0.403454 -0.819433 -0.885197 -0.899182 -0.404491 -0.260718  1.038873  0.113191   True  False  False\n",
       "4        5.8      50.2      2019-01-01 2019-01-01 -0.895983  0.331537  1.885205 -0.371341  0.963905  0.852461 -0.421706 -0.711545 -0.819433 -0.885197 -0.899182 -0.404491 -1.021021  0.875331 -0.488663   True  False  False"
      ]
     },
     "execution_count": 8,
     "metadata": {},
     "output_type": "execute_result"
    }
   ],
   "source": [
    "Weather_Data_Germany.head()"
   ]
  },
  {
   "cell_type": "markdown",
   "metadata": {},
   "source": [
    "#### Save data"
   ]
  },
  {
   "cell_type": "code",
   "execution_count": null,
   "metadata": {},
   "outputs": [],
   "source": [
    "data.save_data(\n",
    "    Installed_Capacity_Germany=Installed_Capacity_Germany,\n",
    "    Prices_Europe=Prices_Europe,\n",
    "    Realised_Supply_Germany=Realised_Supply_Germany,\n",
    "    Realised_Demand_Germany=Realised_Demand_Germany,\n",
    "    Weather_Data_Germany=Weather_Data_Germany,\n",
    "    CONF=CONF,\n",
    "    data_type=\"preprocessed\",\n",
    ")"
   ]
  },
  {
   "cell_type": "markdown",
   "metadata": {},
   "source": [
    "### Processed data inspection"
   ]
  },
  {
   "cell_type": "code",
   "execution_count": null,
   "metadata": {},
   "outputs": [],
   "source": [
    "# Load processed data\n",
    "(\n",
    "    Installed_Capacity_Germany,\n",
    "    Prices_Europe,\n",
    "    Realised_Supply_Germany,\n",
    "    Realised_Demand_Germany,\n",
    "    Weather_Data_Germany,\n",
    ") = data.load_data(CONF, data_type=\"preprocessed\")"
   ]
  },
  {
   "cell_type": "code",
   "execution_count": null,
   "metadata": {},
   "outputs": [],
   "source": [
    "# Generate profile reports\n",
    "\n",
    "if CONF.data.inspect:\n",
    "    data.save_data_inspection(\n",
    "        Installed_Capacity_Germany=Installed_Capacity_Germany,\n",
    "        Prices_Europe=Prices_Europe,\n",
    "        Realised_Supply_Germany=Realised_Supply_Germany,\n",
    "        Realised_Demand_Germany=Realised_Demand_Germany,\n",
    "        Weather_Data_Germany=Weather_Data_Germany,\n",
    "        CONF=CONF,\n",
    "        data_type=\"preprocessed\",\n",
    "    )"
   ]
  },
  {
   "cell_type": "markdown",
   "metadata": {},
   "source": [
    "### Plots processed data"
   ]
  },
  {
   "cell_type": "code",
   "execution_count": null,
   "metadata": {},
   "outputs": [],
   "source": [
    "plots.plot_df(Installed_Capacity_Germany, \"Installed_Capacity_Germany\", CONF)\n",
    "plots.plot_df(Prices_Europe, \"Prices_Europe\", CONF)\n",
    "plots.plot_df(Realised_Supply_Germany, \"Realised_Supply_Germany\", CONF)\n",
    "plots.plot_df(Realised_Demand_Germany, \"Realised_Demand_Germany\", CONF)"
   ]
  },
  {
   "cell_type": "markdown",
   "metadata": {},
   "source": [
    "### Exploring data\n"
   ]
  },
  {
   "cell_type": "markdown",
   "metadata": {},
   "source": [
    "##### How many places do we have weather data to?"
   ]
  },
  {
   "cell_type": "code",
   "execution_count": null,
   "metadata": {},
   "outputs": [],
   "source": [
    "unique_locations = Weather_Data_Germany[[\"latitude\", \"longitude\"]].drop_duplicates()\n",
    "number_of_unique_places = len(unique_locations)\n",
    "print(f\"There are {number_of_unique_places} unique places in the dataset.\")"
   ]
  },
  {
   "cell_type": "markdown",
   "metadata": {},
   "source": [
    "##### Date resolution"
   ]
  },
  {
   "cell_type": "code",
   "execution_count": null,
   "metadata": {},
   "outputs": [],
   "source": [
    "inspection.date_range_and_resolution(Installed_Capacity_Germany, io.DATE_COLUMNS)"
   ]
  },
  {
   "cell_type": "code",
   "execution_count": null,
   "metadata": {},
   "outputs": [],
   "source": [
    "inspection.date_range_and_resolution(Prices_Europe, io.DATE_COLUMNS)"
   ]
  },
  {
   "cell_type": "code",
   "execution_count": null,
   "metadata": {},
   "outputs": [],
   "source": [
    "inspection.date_range_and_resolution(Realised_Supply_Germany, io.DATE_COLUMNS)"
   ]
  },
  {
   "cell_type": "code",
   "execution_count": null,
   "metadata": {},
   "outputs": [],
   "source": [
    "inspection.date_range_and_resolution(Realised_Demand_Germany, io.DATE_COLUMNS)"
   ]
  },
  {
   "cell_type": "code",
   "execution_count": null,
   "metadata": {},
   "outputs": [],
   "source": [
    "inspection.date_range_and_resolution(Weather_Data_Germany, io.DATE_COLUMNS_WEATHER)"
   ]
  }
 ],
 "metadata": {
  "kernelspec": {
   "display_name": "ml-energy-system",
   "language": "python",
   "name": "python3"
  },
  "language_info": {
   "codemirror_mode": {
    "name": "ipython",
    "version": 3
   },
   "file_extension": ".py",
   "mimetype": "text/x-python",
   "name": "python",
   "nbconvert_exporter": "python",
   "pygments_lexer": "ipython3",
   "version": "3.10.12"
  }
 },
 "nbformat": 4,
 "nbformat_minor": 2
}
