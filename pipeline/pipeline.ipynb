{
 "cells": [
  {
   "cell_type": "code",
   "execution_count": null,
   "metadata": {},
   "outputs": [],
   "source": [
    "%load_ext autoreload\n",
    "%autoreload 2\n",
    "\n",
    "import matplotlib.pyplot as plt\n",
    "from ydata_profiling import ProfileReport\n",
    "import os\n",
    "import warnings\n",
    "import sys\n",
    "import pandas as pd\n",
    "\n",
    "sys.path.append(\"../\")\n",
    "from pipeline import data\n",
    "from pipeline.config import CONF\n",
    "from pipeline.data import plots\n",
    "\n",
    "# To suppress all warnings\n",
    "warnings.filterwarnings(\"ignore\")\n",
    "\n",
    "# black is a code formatter (see https://github.com/psf/black).\n",
    "# It will automatically format the code you write in the cells imposing consistent Python style.\n",
    "%load_ext jupyter_black\n",
    "# matplotlib style file\n",
    "# Template for style file: https://matplotlib.org/stable/tutorials/introductory/customizing.html#customizing-with-style-sheets\n",
    "plt.style.use(\"../matplotlib_style.txt\")\n",
    "pd.set_option(\"display.max_columns\", None)  # Show all columns\n",
    "pd.set_option(\"display.expand_frame_repr\", False)  # Prevent wrapping"
   ]
  },
  {
   "cell_type": "markdown",
   "metadata": {},
   "source": [
    "### Raw data inspection"
   ]
  },
  {
   "cell_type": "code",
   "execution_count": null,
   "metadata": {},
   "outputs": [],
   "source": [
    "# Load raw data\n",
    "(\n",
    "    Installed_Capacity_Germany,\n",
    "    Prices_Europe,\n",
    "    Realised_Supply_Germany,\n",
    "    Realised_Demand_Germany,\n",
    "    Weather_Data_Germany,\n",
    ") = data.load_data(CONF=CONF, data_type=\"raw\")"
   ]
  },
  {
   "cell_type": "code",
   "execution_count": null,
   "metadata": {},
   "outputs": [],
   "source": [
    "# Generate profile reports\n",
    "data.save_data_inspection(\n",
    "    Installed_Capacity_Germany=Installed_Capacity_Germany,\n",
    "    Prices_Europe=Prices_Europe,\n",
    "    Realised_Supply_Germany=Realised_Supply_Germany,\n",
    "    Realised_Demand_Germany=Realised_Demand_Germany,\n",
    "    Weather_Data_Germany=Weather_Data_Germany,\n",
    "    CONF=CONF,\n",
    "    data_type=\"raw\",\n",
    ")"
   ]
  },
  {
   "cell_type": "markdown",
   "metadata": {},
   "source": [
    "### Raw data processing"
   ]
  },
  {
   "cell_type": "code",
   "execution_count": null,
   "metadata": {},
   "outputs": [],
   "source": [
    "data.save_data(\n",
    "    Installed_Capacity_Germany=data.process_na_values(Installed_Capacity_Germany, CONF),\n",
    "    Prices_Europe=data.process_na_values(Prices_Europe, CONF),\n",
    "    Realised_Supply_Germany=data.process_na_values(Realised_Supply_Germany, CONF),\n",
    "    Realised_Demand_Germany=data.process_na_values(Realised_Demand_Germany, CONF),\n",
    "    Weather_Data_Germany=data.process_na_values(Weather_Data_Germany, CONF),\n",
    "    CONF=CONF,\n",
    "    data_type=\"preprocessed\",\n",
    ")"
   ]
  },
  {
   "cell_type": "markdown",
   "metadata": {},
   "source": [
    "### Processed data inspection"
   ]
  },
  {
   "cell_type": "code",
   "execution_count": null,
   "metadata": {},
   "outputs": [],
   "source": [
    "# Load processed data\n",
    "(\n",
    "    Installed_Capacity_Germany,\n",
    "    Prices_Europe,\n",
    "    Realised_Supply_Germany,\n",
    "    Realised_Demand_Germany,\n",
    "    Weather_Data_Germany,\n",
    ") = data.load_data(CONF, data_type=\"preprocessed\")"
   ]
  },
  {
   "cell_type": "code",
   "execution_count": null,
   "metadata": {},
   "outputs": [],
   "source": [
    "# Generate profile reports\n",
    "data.save_data_inspection(\n",
    "    Installed_Capacity_Germany=Installed_Capacity_Germany,\n",
    "    Prices_Europe=Prices_Europe,\n",
    "    Realised_Supply_Germany=Realised_Supply_Germany,\n",
    "    Realised_Demand_Germany=Realised_Demand_Germany,\n",
    "    Weather_Data_Germany=Weather_Data_Germany,\n",
    "    CONF=CONF,\n",
    "    data_type=\"preprocessed\",\n",
    ")"
   ]
  },
  {
   "cell_type": "markdown",
   "metadata": {},
   "source": [
    "### Plots processed data"
   ]
  },
  {
   "cell_type": "code",
   "execution_count": null,
   "metadata": {},
   "outputs": [],
   "source": [
    "plots.plot_df(Installed_Capacity_Germany, \"Installed_Capacity_Germany\", CONF)\n",
    "plots.plot_df(Prices_Europe, \"Prices_Europe\", CONF)\n",
    "plots.plot_df(Realised_Supply_Germany, \"Realised_Supply_Germany\", CONF)\n",
    "plots.plot_df(Realised_Demand_Germany, \"Realised_Demand_Germany\", CONF)"
   ]
  }
 ],
 "metadata": {
  "kernelspec": {
   "display_name": "ml-energy-system",
   "language": "python",
   "name": "python3"
  },
  "language_info": {
   "codemirror_mode": {
    "name": "ipython",
    "version": 3
   },
   "file_extension": ".py",
   "mimetype": "text/x-python",
   "name": "python",
   "nbconvert_exporter": "python",
   "pygments_lexer": "ipython3",
   "version": "3.12.3"
  }
 },
 "nbformat": 4,
 "nbformat_minor": 2
}
