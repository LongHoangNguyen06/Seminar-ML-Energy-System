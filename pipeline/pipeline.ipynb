{
 "cells": [
  {
   "cell_type": "markdown",
   "metadata": {},
   "source": [
    "#### Import libraries"
   ]
  },
  {
   "cell_type": "code",
   "execution_count": 1,
   "metadata": {},
   "outputs": [
    {
     "data": {
      "text/html": [
       "\n",
       "                <script type=\"application/javascript\" id=\"jupyter_black\">\n",
       "                (function() {\n",
       "                    if (window.IPython === undefined) {\n",
       "                        return\n",
       "                    }\n",
       "                    var msg = \"WARNING: it looks like you might have loaded \" +\n",
       "                        \"jupyter_black in a non-lab notebook with \" +\n",
       "                        \"`is_lab=True`. Please double check, and if \" +\n",
       "                        \"loading with `%load_ext` please review the README!\"\n",
       "                    console.log(msg)\n",
       "                    alert(msg)\n",
       "                })()\n",
       "                </script>\n",
       "                "
      ],
      "text/plain": [
       "<IPython.core.display.HTML object>"
      ]
     },
     "metadata": {},
     "output_type": "display_data"
    }
   ],
   "source": [
    "%load_ext autoreload\n",
    "%autoreload 2\n",
    "\n",
    "import matplotlib.pyplot as plt\n",
    "import warnings\n",
    "import sys\n",
    "import pandas as pd\n",
    "\n",
    "sys.path.append(\"../\")\n",
    "from pipeline import data\n",
    "from pipeline.config import CONF\n",
    "from pipeline.data import plots\n",
    "from pipeline.data import io\n",
    "from pipeline.data import inspection\n",
    "from pipeline.data import preprocess\n",
    "\n",
    "# To suppress all warnings\n",
    "warnings.filterwarnings(\"ignore\")\n",
    "\n",
    "# black is a code formatter (see https://github.com/psf/black).\n",
    "# It will automatically format the code you write in the cells imposing consistent Python style.\n",
    "%load_ext jupyter_black\n",
    "# matplotlib style file\n",
    "# Template for style file: https://matplotlib.org/stable/tutorials/introductory/customizing.html#customizing-with-style-sheets\n",
    "plt.style.use(\"../matplotlib_style.txt\")\n",
    "pd.set_option(\"display.max_columns\", None)  # Show all columns\n",
    "pd.set_option(\"display.expand_frame_repr\", False)  # Prevent wrapping"
   ]
  },
  {
   "cell_type": "markdown",
   "metadata": {},
   "source": [
    "## Raw data"
   ]
  },
  {
   "cell_type": "markdown",
   "metadata": {},
   "source": [
    "### Load raw data"
   ]
  },
  {
   "cell_type": "code",
   "execution_count": 29,
   "metadata": {},
   "outputs": [
    {
     "name": "stdout",
     "output_type": "stream",
     "text": [
      "Loaded Installed_Capacity_Germany from '/graphics/scratch2/students/nguyenlo/seminar-ml/raw_data/Installed_Capacity_Germany.csv' successfully.\n",
      "Loaded Prices_Europe from '/graphics/scratch2/students/nguyenlo/seminar-ml/raw_data/Prices_Europe.csv' successfully.\n",
      "Loaded Realised_Supply_Germany from '/graphics/scratch2/students/nguyenlo/seminar-ml/raw_data/Realised_Supply_Germany.csv' successfully.\n",
      "Loaded Realised_Demand_Germany from '/graphics/scratch2/students/nguyenlo/seminar-ml/raw_data/Reaslised_Demand_Germany.csv' successfully.\n",
      "Loaded Weather_Data_Germany from '/graphics/scratch2/students/nguyenlo/seminar-ml/raw_data/Weather_Data_Germany.csv' successfully.\n",
      "Loaded Weather_Data_Germany_2022 from '/graphics/scratch2/students/nguyenlo/seminar-ml/raw_data/Weather_Data_Germany_2022.csv' successfully.\n"
     ]
    }
   ],
   "source": [
    "# Load raw data\n",
    "(\n",
    "    Installed_Capacity_Germany,\n",
    "    Prices_Europe,\n",
    "    Realised_Supply_Germany,\n",
    "    Realised_Demand_Germany,\n",
    "    Weather_Data_Germany,\n",
    "    Weather_Data_Germany_2022,\n",
    ") = data.load_data(CONF=CONF, data_type=\"raw\")"
   ]
  },
  {
   "cell_type": "markdown",
   "metadata": {},
   "source": [
    "### Inspect raw data"
   ]
  },
  {
   "cell_type": "code",
   "execution_count": 30,
   "metadata": {},
   "outputs": [],
   "source": [
    "# Generate profile reports\n",
    "if CONF.data.inspect:\n",
    "    data.save_data_inspection(\n",
    "        Installed_Capacity_Germany=Installed_Capacity_Germany,\n",
    "        Prices_Europe=Prices_Europe,\n",
    "        Realised_Supply_Germany=Realised_Supply_Germany,\n",
    "        Realised_Demand_Germany=Realised_Demand_Germany,\n",
    "        Weather_Data_Germany=Weather_Data_Germany,\n",
    "        Weather_Data_Germany_2022=Weather_Data_Germany_2022,\n",
    "        CONF=CONF,\n",
    "        data_type=\"raw\",\n",
    "    )"
   ]
  },
  {
   "cell_type": "markdown",
   "metadata": {},
   "source": [
    "### Raw data processing"
   ]
  },
  {
   "cell_type": "markdown",
   "metadata": {},
   "source": [
    "##### Merging data together"
   ]
  },
  {
   "cell_type": "code",
   "execution_count": 31,
   "metadata": {},
   "outputs": [],
   "source": [
    "# Merging Weather_Data_Germany and Weather_Data_Germany_2022\n",
    "# Replace Weather_Data_Germany with Weather_Data_Germany_2022 for 2022 data\n",
    "\n",
    "# Remove the data for 2022 from the original dataframe\n",
    "Weather_Data_Germany = Weather_Data_Germany[\n",
    "    Weather_Data_Germany[\"time\"].dt.year != 2022\n",
    "]\n",
    "\n",
    "# Concatenate the filtered original dataframe with the 2022 data\n",
    "Weather_Data_Germany = pd.concat(\n",
    "    [Weather_Data_Germany, Weather_Data_Germany_2022], ignore_index=True\n",
    ")"
   ]
  },
  {
   "cell_type": "markdown",
   "metadata": {},
   "source": [
    "##### Fill NaN"
   ]
  },
  {
   "cell_type": "code",
   "execution_count": 32,
   "metadata": {},
   "outputs": [],
   "source": [
    "Installed_Capacity_Germany = data.process_na_values(Installed_Capacity_Germany, CONF)\n",
    "Prices_Europe = data.process_na_values(Prices_Europe, CONF)\n",
    "Realised_Supply_Germany = data.process_na_values(Realised_Supply_Germany, CONF)\n",
    "Realised_Demand_Germany = data.process_na_values(Realised_Demand_Germany, CONF)\n",
    "Weather_Data_Germany = data.process_na_values(Weather_Data_Germany, CONF)"
   ]
  },
  {
   "cell_type": "markdown",
   "metadata": {},
   "source": [
    "#### Split train, val, test"
   ]
  },
  {
   "cell_type": "code",
   "execution_count": 33,
   "metadata": {},
   "outputs": [],
   "source": [
    "Installed_Capacity_Germany = preprocess.split_data(\n",
    "    df=Installed_Capacity_Germany, column_name=io.DATE_COLUMNS[-1]\n",
    ")\n",
    "Prices_Europe = preprocess.split_data(df=Prices_Europe, column_name=io.DATE_COLUMNS[-1])\n",
    "Realised_Supply_Germany = preprocess.split_data(\n",
    "    df=Realised_Supply_Germany, column_name=io.DATE_COLUMNS[-1]\n",
    ")\n",
    "Realised_Demand_Germany = preprocess.split_data(\n",
    "    df=Realised_Demand_Germany, column_name=io.DATE_COLUMNS[-1]\n",
    ")\n",
    "Weather_Data_Germany = preprocess.split_data(\n",
    "    df=Weather_Data_Germany, column_name=io.DATE_COLUMNS_WEATHER[0]\n",
    ")"
   ]
  },
  {
   "cell_type": "markdown",
   "metadata": {},
   "source": [
    "#### Normalize data"
   ]
  },
  {
   "cell_type": "code",
   "execution_count": 34,
   "metadata": {},
   "outputs": [],
   "source": [
    "Installed_Capacity_Germany = preprocess.normalize_data(\n",
    "    df=Installed_Capacity_Germany, ignore_features=io.DATE_COLUMNS\n",
    ")\n",
    "Prices_Europe = preprocess.normalize_data(\n",
    "    df=Prices_Europe, ignore_features=io.DATE_COLUMNS\n",
    ")\n",
    "Realised_Supply_Germany = preprocess.normalize_data(\n",
    "    df=Realised_Supply_Germany, ignore_features=io.DATE_COLUMNS\n",
    ")\n",
    "Realised_Demand_Germany = preprocess.normalize_data(\n",
    "    df=Realised_Demand_Germany, ignore_features=io.DATE_COLUMNS\n",
    ")\n",
    "Weather_Data_Germany = preprocess.normalize_data(\n",
    "    df=Weather_Data_Germany,\n",
    "    ignore_features=io.DATE_COLUMNS_WEATHER + [\"longitude\", \"latitude\"],\n",
    ")"
   ]
  },
  {
   "cell_type": "markdown",
   "metadata": {},
   "source": [
    "#### Aggregate weather data"
   ]
  },
  {
   "cell_type": "code",
   "execution_count": 35,
   "metadata": {},
   "outputs": [],
   "source": [
    "Weather_Data_Germany = preprocess.aggregate_weather_data(\n",
    "    Weather_Data_Germany, [\"forecast_origin\", \"time\"]\n",
    ")"
   ]
  },
  {
   "cell_type": "markdown",
   "metadata": {},
   "source": [
    "#### Save data"
   ]
  },
  {
   "cell_type": "code",
   "execution_count": 37,
   "metadata": {},
   "outputs": [
    {
     "name": "stdout",
     "output_type": "stream",
     "text": [
      "Saved Installed_Capacity_Germany to '/graphics/scratch2/students/nguyenlo/seminar-ml/preprocessed_data/Installed_Capacity_Germany.csv' successfully.\n",
      "Saved Prices_Europe to '/graphics/scratch2/students/nguyenlo/seminar-ml/preprocessed_data/Prices_Europe.csv' successfully.\n",
      "Saved Realised_Supply_Germany to '/graphics/scratch2/students/nguyenlo/seminar-ml/preprocessed_data/Realised_Supply_Germany.csv' successfully.\n",
      "Saved Realised_Demand_Germany to '/graphics/scratch2/students/nguyenlo/seminar-ml/preprocessed_data/Reaslised_Demand_Germany.csv' successfully.\n",
      "Saved Weather_Data_Germany to '/graphics/scratch2/students/nguyenlo/seminar-ml/preprocessed_data/Weather_Data_Germany.csv' successfully.\n"
     ]
    }
   ],
   "source": [
    "data.save_data(\n",
    "    Installed_Capacity_Germany=Installed_Capacity_Germany,\n",
    "    Prices_Europe=Prices_Europe,\n",
    "    Realised_Supply_Germany=Realised_Supply_Germany,\n",
    "    Realised_Demand_Germany=Realised_Demand_Germany,\n",
    "    Weather_Data_Germany=Weather_Data_Germany,\n",
    "    CONF=CONF,\n",
    "    data_type=\"preprocessed\",\n",
    ")"
   ]
  },
  {
   "cell_type": "markdown",
   "metadata": {},
   "source": [
    "## Processed data"
   ]
  },
  {
   "cell_type": "markdown",
   "metadata": {},
   "source": [
    "### Load processed data"
   ]
  },
  {
   "cell_type": "code",
   "execution_count": 38,
   "metadata": {},
   "outputs": [
    {
     "name": "stdout",
     "output_type": "stream",
     "text": [
      "Loaded Installed_Capacity_Germany from '/graphics/scratch2/students/nguyenlo/seminar-ml/preprocessed_data/Installed_Capacity_Germany.csv' successfully.\n",
      "Loaded Prices_Europe from '/graphics/scratch2/students/nguyenlo/seminar-ml/preprocessed_data/Prices_Europe.csv' successfully.\n",
      "Loaded Realised_Supply_Germany from '/graphics/scratch2/students/nguyenlo/seminar-ml/preprocessed_data/Realised_Supply_Germany.csv' successfully.\n",
      "Loaded Realised_Demand_Germany from '/graphics/scratch2/students/nguyenlo/seminar-ml/preprocessed_data/Reaslised_Demand_Germany.csv' successfully.\n",
      "Loaded Weather_Data_Germany from '/graphics/scratch2/students/nguyenlo/seminar-ml/preprocessed_data/Weather_Data_Germany.csv' successfully.\n"
     ]
    }
   ],
   "source": [
    "# Load processed data\n",
    "(\n",
    "    Installed_Capacity_Germany,\n",
    "    Prices_Europe,\n",
    "    Realised_Supply_Germany,\n",
    "    Realised_Demand_Germany,\n",
    "    Weather_Data_Germany,\n",
    ") = data.load_data(CONF, data_type=\"preprocessed\")"
   ]
  },
  {
   "cell_type": "markdown",
   "metadata": {},
   "source": [
    "### Processed data inspection"
   ]
  },
  {
   "cell_type": "code",
   "execution_count": 39,
   "metadata": {},
   "outputs": [],
   "source": [
    "# Generate profile reports\n",
    "\n",
    "if CONF.data.inspect:\n",
    "    data.save_data_inspection(\n",
    "        Installed_Capacity_Germany=Installed_Capacity_Germany,\n",
    "        Prices_Europe=Prices_Europe,\n",
    "        Realised_Supply_Germany=Realised_Supply_Germany,\n",
    "        Realised_Demand_Germany=Realised_Demand_Germany,\n",
    "        Weather_Data_Germany=Weather_Data_Germany,\n",
    "        CONF=CONF,\n",
    "        data_type=\"preprocessed\",\n",
    "    )"
   ]
  },
  {
   "cell_type": "markdown",
   "metadata": {},
   "source": [
    "### Plot processed data"
   ]
  },
  {
   "cell_type": "code",
   "execution_count": 49,
   "metadata": {},
   "outputs": [],
   "source": [
    "plots.plot_df(Installed_Capacity_Germany, \"Installed_Capacity_Germany\", CONF)\n",
    "plots.plot_df(Prices_Europe, \"Prices_Europe\", CONF)\n",
    "plots.plot_df(Realised_Supply_Germany, \"Realised_Supply_Germany\", CONF)\n",
    "plots.plot_df(Realised_Demand_Germany, \"Realised_Demand_Germany\", CONF)\n",
    "plots.plot_df(\n",
    "    Weather_Data_Germany,\n",
    "    \"Weather_Data_Germany\",\n",
    "    CONF,\n",
    "    date_col=io.DATE_COLUMNS_WEATHER[-1],\n",
    "    drop_date_cols=io.DATE_COLUMNS_WEATHER,\n",
    ")"
   ]
  },
  {
   "cell_type": "markdown",
   "metadata": {},
   "source": [
    "### Exploring data\n"
   ]
  },
  {
   "cell_type": "markdown",
   "metadata": {},
   "source": [
    "##### Date resolution"
   ]
  },
  {
   "cell_type": "code",
   "execution_count": 41,
   "metadata": {},
   "outputs": [
    {
     "name": "stdout",
     "output_type": "stream",
     "text": [
      "Min Date from: 2019-01-01 00:00:00\n",
      "Max Date from: 2022-01-01 00:00:00\n",
      "Resolution Date from: 365 days 00:00:00\n",
      "Min Date to: 2020-01-01 00:00:00\n",
      "Max Date to: 2023-01-01 00:00:00\n",
      "Resolution Date to: 365 days 00:00:00\n"
     ]
    }
   ],
   "source": [
    "inspection.date_range_and_resolution(Installed_Capacity_Germany, io.DATE_COLUMNS)"
   ]
  },
  {
   "cell_type": "code",
   "execution_count": 42,
   "metadata": {},
   "outputs": [
    {
     "name": "stdout",
     "output_type": "stream",
     "text": [
      "Min Date from: 2019-01-01 00:00:00\n",
      "Max Date from: 2022-12-31 23:00:00\n",
      "Resolution Date from: 0 days 01:00:00\n",
      "Min Date to: 2019-01-01 01:00:00\n",
      "Max Date to: 2023-01-01 00:00:00\n",
      "Resolution Date to: 0 days 01:00:00\n"
     ]
    }
   ],
   "source": [
    "inspection.date_range_and_resolution(Prices_Europe, io.DATE_COLUMNS)"
   ]
  },
  {
   "cell_type": "code",
   "execution_count": 43,
   "metadata": {},
   "outputs": [
    {
     "name": "stdout",
     "output_type": "stream",
     "text": [
      "Min Date from: 2019-01-01 00:00:00\n",
      "Max Date from: 2022-12-31 23:45:00\n",
      "Resolution Date from: 0 days 00:15:00\n",
      "Min Date to: 2019-01-01 00:15:00\n",
      "Max Date to: 2023-01-01 00:00:00\n",
      "Resolution Date to: 0 days 00:15:00\n"
     ]
    }
   ],
   "source": [
    "inspection.date_range_and_resolution(Realised_Supply_Germany, io.DATE_COLUMNS)"
   ]
  },
  {
   "cell_type": "code",
   "execution_count": 44,
   "metadata": {},
   "outputs": [
    {
     "name": "stdout",
     "output_type": "stream",
     "text": [
      "Min Date from: 2019-01-01 00:00:00\n",
      "Max Date from: 2022-12-31 23:45:00\n",
      "Resolution Date from: 0 days 00:15:00\n",
      "Min Date to: 2019-01-01 00:15:00\n",
      "Max Date to: 2023-01-01 00:00:00\n",
      "Resolution Date to: 0 days 00:15:00\n"
     ]
    }
   ],
   "source": [
    "inspection.date_range_and_resolution(Realised_Demand_Germany, io.DATE_COLUMNS)"
   ]
  },
  {
   "cell_type": "code",
   "execution_count": 45,
   "metadata": {},
   "outputs": [
    {
     "name": "stdout",
     "output_type": "stream",
     "text": [
      "Min forecast_origin: 2019-01-01 00:00:00\n",
      "Max forecast_origin: 2022-12-31 00:00:00\n",
      "Resolution forecast_origin: 0 days 00:00:00\n",
      "Min time: 2019-01-01 00:00:00\n",
      "Max time: 2022-12-31 23:00:00\n",
      "Resolution time: 0 days 01:00:00\n"
     ]
    }
   ],
   "source": [
    "inspection.date_range_and_resolution(Weather_Data_Germany, io.DATE_COLUMNS_WEATHER)"
   ]
  }
 ],
 "metadata": {
  "kernelspec": {
   "display_name": "ml-energy-system",
   "language": "python",
   "name": "python3"
  },
  "language_info": {
   "codemirror_mode": {
    "name": "ipython",
    "version": 3
   },
   "file_extension": ".py",
   "mimetype": "text/x-python",
   "name": "python",
   "nbconvert_exporter": "python",
   "pygments_lexer": "ipython3",
   "version": "3.10.12"
  }
 },
 "nbformat": 4,
 "nbformat_minor": 2
}
